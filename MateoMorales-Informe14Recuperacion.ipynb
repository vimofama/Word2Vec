{
 "cells": [
  {
   "cell_type": "raw",
   "source": [
    "---\n",
    "title: \"Informe 14 Recuperacion\"\n",
    "author: \"Mateo Morales\"\n",
    "date: \"2023-09-12\"\n",
    "format:\n",
    "  pdf:\n",
    "    lang: es\n",
    "    colorlinks: true\n",
    "---"
   ],
   "metadata": {
    "collapsed": false
   },
   "id": "d1a799f176906269"
  },
  {
   "cell_type": "markdown",
   "source": [
    "# Word2Vec\n",
    "\n",
    "## 1. Objetivos\n",
    "* Realizar un modelo word2vec con un archivo txt.\n",
    "\n",
    "## 2. Introducción\n",
    "\n",
    "La incrustación de palabras es una técnica de modelado lingüístico que se utiliza para asignar palabras a vectores de números reales. Representa palabras o frases en un espacio vectorial de varias dimensiones. Las incrustaciones de palabras pueden generarse mediante diversos métodos, como redes neuronales, matrices de co-ocurrencia, modelos probabilísticos, etc. Word2Vec consta de modelos para generar incrustaciones de palabras. Estos modelos son redes neuronales superficiales de dos capas que tienen una capa de entrada, una capa oculta y una capa de salida. Word2Vec utiliza dos arquitecturas:\n",
    "\n",
    "* CBOW (Bolsa continua de palabras): El modelo CBOW predice la palabra actual dadas las palabras de contexto dentro de una ventana específica. La capa de entrada contiene las palabras del contexto y la capa de salida contiene la palabra actual. La capa oculta contiene el número de dimensiones en las que queremos representar la palabra actual presente en la capa de salida.\n",
    "\n",
    "* Omitir gramática : El salto gramatical predice las palabras del contexto circundante dentro de una ventana específica dada la palabra actual. La capa de entrada contiene la palabra actual y la capa de salida contiene las palabras contextuales. La capa oculta contiene el número de dimensiones en las que queremos representar la palabra actual presente en la capa de entrada.\n",
    "\n",
    "The basic idea of word embedding is words that occur in similar context tend to be closer to each other in vector space [1]."
   ],
   "metadata": {
    "collapsed": false
   },
   "id": "8b2af7db88417abf"
  },
  {
   "cell_type": "markdown",
   "source": [
    "## 3. Desarrollo\n",
    "\n",
    "Importar Librerias"
   ],
   "metadata": {
    "collapsed": false
   },
   "id": "771e07ffc46bba42"
  },
  {
   "cell_type": "code",
   "execution_count": 1,
   "outputs": [
    {
     "name": "stderr",
     "output_type": "stream",
     "text": [
      "[nltk_data] Downloading package stopwords to\n",
      "[nltk_data]     C:\\Users\\user\\AppData\\Roaming\\nltk_data...\n",
      "[nltk_data]   Package stopwords is already up-to-date!\n"
     ]
    },
    {
     "data": {
      "text/plain": "True"
     },
     "execution_count": 1,
     "metadata": {},
     "output_type": "execute_result"
    }
   ],
   "source": [
    "import nltk\n",
    "\n",
    "nltk.download('stopwords')"
   ],
   "metadata": {
    "collapsed": false,
    "ExecuteTime": {
     "end_time": "2023-08-26T00:18:27.663255500Z",
     "start_time": "2023-08-26T00:18:20.781709Z"
    }
   },
   "id": "23838d07916bfc63"
  },
  {
   "cell_type": "code",
   "execution_count": 2,
   "outputs": [],
   "source": [
    "from unidecode import unidecode\n",
    "from nltk.tokenize import TweetTokenizer\n",
    "from string import punctuation\n",
    "from nltk.corpus import stopwords"
   ],
   "metadata": {
    "collapsed": false,
    "ExecuteTime": {
     "end_time": "2023-08-26T00:18:32.474514500Z",
     "start_time": "2023-08-26T00:18:32.443277500Z"
    }
   },
   "id": "983e6554ea000db2"
  },
  {
   "cell_type": "code",
   "execution_count": 3,
   "outputs": [],
   "source": [
    "stop_words = [unidecode(stopW) for stopW in stopwords.words('spanish')]\n",
    "non_words = list(punctuation)\n",
    "non_words.extend(['¿', '¡', 'q', 'd', 'x', 'xq', '...', '..'])\n",
    "stop_words = stop_words + non_words"
   ],
   "metadata": {
    "collapsed": false,
    "ExecuteTime": {
     "end_time": "2023-08-26T00:18:45.857444100Z",
     "start_time": "2023-08-26T00:18:45.819534700Z"
    }
   },
   "id": "f94ed963b29c2e1a"
  },
  {
   "cell_type": "code",
   "execution_count": 4,
   "outputs": [],
   "source": [
    "import pandas as pd"
   ],
   "metadata": {
    "collapsed": false,
    "ExecuteTime": {
     "end_time": "2023-08-26T00:18:48.286378200Z",
     "start_time": "2023-08-26T00:18:47.305479600Z"
    }
   },
   "id": "5d4897c1bb94dfd3"
  },
  {
   "cell_type": "code",
   "execution_count": 5,
   "outputs": [],
   "source": [
    "# Carga del documento\n",
    "data = pd.read_excel('4_articles.xlsx')"
   ],
   "metadata": {
    "collapsed": false,
    "ExecuteTime": {
     "end_time": "2023-08-26T00:18:52.999861400Z",
     "start_time": "2023-08-26T00:18:49.739013700Z"
    }
   },
   "id": "12a40d801756560b"
  },
  {
   "cell_type": "code",
   "execution_count": 6,
   "outputs": [
    {
     "data": {
      "text/plain": "   Unnamed: 0                                             text_y\n0           0  \\n            bienvenidos a la segunda edición...\n1           1  familiares y amigos de pedro aguilar, quien su...\n2           2  los asaltantes llegaron con armas de fuego has...\n3           3  según cnn en español, una encuesta de 2021 rev...\n4           4  durante la filmación dos actores fallecieron t...",
      "text/html": "<div>\n<style scoped>\n    .dataframe tbody tr th:only-of-type {\n        vertical-align: middle;\n    }\n\n    .dataframe tbody tr th {\n        vertical-align: top;\n    }\n\n    .dataframe thead th {\n        text-align: right;\n    }\n</style>\n<table border=\"1\" class=\"dataframe\">\n  <thead>\n    <tr style=\"text-align: right;\">\n      <th></th>\n      <th>Unnamed: 0</th>\n      <th>text_y</th>\n    </tr>\n  </thead>\n  <tbody>\n    <tr>\n      <th>0</th>\n      <td>0</td>\n      <td>\\n            bienvenidos a la segunda edición...</td>\n    </tr>\n    <tr>\n      <th>1</th>\n      <td>1</td>\n      <td>familiares y amigos de pedro aguilar, quien su...</td>\n    </tr>\n    <tr>\n      <th>2</th>\n      <td>2</td>\n      <td>los asaltantes llegaron con armas de fuego has...</td>\n    </tr>\n    <tr>\n      <th>3</th>\n      <td>3</td>\n      <td>según cnn en español, una encuesta de 2021 rev...</td>\n    </tr>\n    <tr>\n      <th>4</th>\n      <td>4</td>\n      <td>durante la filmación dos actores fallecieron t...</td>\n    </tr>\n  </tbody>\n</table>\n</div>"
     },
     "execution_count": 6,
     "metadata": {},
     "output_type": "execute_result"
    }
   ],
   "source": [
    "data.head()"
   ],
   "metadata": {
    "collapsed": false,
    "ExecuteTime": {
     "end_time": "2023-08-26T00:18:53.579902200Z",
     "start_time": "2023-08-26T00:18:53.555470800Z"
    }
   },
   "id": "e29085aa9dbfd473"
  },
  {
   "cell_type": "code",
   "execution_count": 7,
   "outputs": [],
   "source": [
    "data = data['text_y']"
   ],
   "metadata": {
    "collapsed": false,
    "ExecuteTime": {
     "end_time": "2023-08-26T00:18:56.407569500Z",
     "start_time": "2023-08-26T00:18:56.386907500Z"
    }
   },
   "id": "62e7077b3689a11"
  },
  {
   "cell_type": "code",
   "execution_count": 8,
   "outputs": [
    {
     "data": {
      "text/plain": "(8992,)"
     },
     "execution_count": 8,
     "metadata": {},
     "output_type": "execute_result"
    }
   ],
   "source": [
    "data.shape"
   ],
   "metadata": {
    "collapsed": false,
    "ExecuteTime": {
     "end_time": "2023-08-26T00:18:58.373211700Z",
     "start_time": "2023-08-26T00:18:58.347521800Z"
    }
   },
   "id": "1178496bfbe9b53f"
  },
  {
   "cell_type": "code",
   "execution_count": 9,
   "outputs": [
    {
     "data": {
      "text/plain": "0    \\n            bienvenidos a la segunda edición...\n1    familiares y amigos de pedro aguilar, quien su...\n2    los asaltantes llegaron con armas de fuego has...\n3    según cnn en español, una encuesta de 2021 rev...\n4    durante la filmación dos actores fallecieron t...\nName: text_y, dtype: object"
     },
     "execution_count": 9,
     "metadata": {},
     "output_type": "execute_result"
    }
   ],
   "source": [
    "data.head()"
   ],
   "metadata": {
    "collapsed": false,
    "ExecuteTime": {
     "end_time": "2023-08-26T00:19:00.613628100Z",
     "start_time": "2023-08-26T00:19:00.572384Z"
    }
   },
   "id": "eca1f67356c19f5b"
  },
  {
   "cell_type": "code",
   "execution_count": 10,
   "outputs": [],
   "source": [
    "# Preprocesamiento de datos\n",
    "\n",
    "tknzr = TweetTokenizer()\n",
    "\n",
    "clean_sentences = []\n",
    "\n",
    "for dirty_sent in data:\n",
    "    tokens = [token.lower() for token in tknzr.tokenize(unidecode(dirty_sent))\n",
    "              if token.lower() not in stop_words]\n",
    "    processed_sentence = ' '.join(tokens)  #put the list of clean extracted words of the sentence into ONE string\n",
    "    clean_sentences.append(processed_sentence)  #save the clean prepocessed sentence in the new list"
   ],
   "metadata": {
    "collapsed": false,
    "ExecuteTime": {
     "end_time": "2023-08-26T00:19:41.856806100Z",
     "start_time": "2023-08-26T00:19:05.013230Z"
    }
   },
   "id": "8a1e61112d3e03a6"
  },
  {
   "cell_type": "code",
   "execution_count": 11,
   "outputs": [
    {
     "data": {
      "text/plain": "8992"
     },
     "execution_count": 11,
     "metadata": {},
     "output_type": "execute_result"
    }
   ],
   "source": [
    "len(clean_sentences)"
   ],
   "metadata": {
    "collapsed": false,
    "ExecuteTime": {
     "end_time": "2023-08-26T00:19:47.979165400Z",
     "start_time": "2023-08-26T00:19:47.950054500Z"
    }
   },
   "id": "f9777cab8300cc45"
  },
  {
   "cell_type": "code",
   "execution_count": 12,
   "outputs": [
    {
     "data": {
      "text/plain": "['bienvenidos segunda edicion apuesta ecuador iniciativa invita volar alto pyme emprendimiento disfrutar retroalimentacion coaches inscribete recibe reconocimientos potenciar negocio presentan avalado auspician ejecutiva 10 anos experiencia enfocada rol sector privado desarrollo economico social paises inicio carrera laboratorio innovacion banco interamericano desarrollo bid rol dentro bid apoyo supervision 25 proyectos diferentes monto 15 millones dolares prestamos asistencias tecnicas especialmente dedicadas fortalecimiento crecimiento pymes ecuador posteriormente trabajo londres mobile for development fundacion gsma dedicado estimular innovacion digital traves proyectos sectores desatendidos participacion gsma manejo fondos publicos oportunidad implementar proyectos paises peru benin ruanda kenia espana reino unido actualmente desempena gerente proyecto pyme mastercard ecuador area enfocada diseno soluciones beneficios micro pequena medianas empresas region espera apoyar camino digitalizacion pyme pais 27 anos experiencia sector automotor marcus licenciado administracion comunicacion social mba gestion negocios ingreso gm 1995 marcus oportunidad ejercer exitosamente varias posiciones unidades negocio gm sudamerica gm mercosur areas clave negocio manufactura compras cadena suministros ventas proveedores ademas sido reconocido liderazgo ejecucion importantes proyectos sudamerica sudafrica tailandia 25 anos experiencia marketing comunicacion convencido organizaciones requieren proposito trascendente actualmente gerente regional sierra director comunicacion pronaca empresa 60 anos mercado existe alimentar bien ecuatorianos workingup incubadora empresas acreditada senescyt 2016 cuenta experiencia direccion programas incubacion operacion prestigiosas convocatorias emprendimiento nivel nacional traves workingup canalizado 500 mil dolares capital semilla emprendedores instituciones publicas privadas',\n 'familiares amigos pedro aguilar sufrio grave accidente ultima valida rally nacional gualaceo trabajan reunir dinero permita cubrir gastos hospitalizacion ello invita ciudadania ser parte actividades realizan aguilar pasado 7 octubre participaba copiloto martin vintimila fallecio recupera forma lenta tarde jueves 13 octubre 2022 retirarian sedantes conocer reaccionaba operacion brazo izquierdo quedo pendiente viernes acuerdo recomendacion medica mientras continua promocion hamburguesa solidaria valor 10 dolares venta realiza dia extendera sabado 15 octubre sanducheria chic ubicado avenida remigio crespo junto sucursales banco pichincha martha jarrin colaboradoras cruzada solidaria mostro emocionada constatar respuesta ciudadania superaron todas expectativas agradecida familia aguilar aseguro organizan rifa cada boleto cuesta 10 dolares ocho premios ademas pretendan aportar economicamente pueden hacerlo cuenta ahorros cooperativa jep 4061240092 07 nombre aguilar moscoso jorge rodrigo numero cedula 01021359 77 mq',\n 'asaltantes llegaron armas fuego joyeria foto captura camaras seguridad captaron momento dos personas armadas asaltaron joyeria portoviejo manabi video puede ver hombre dialoga joven trabaja lugar aparentando ser cliente acto seguido saca arma fuego somete bruscamente empleada mujer empieza gritar asustada angustiada tras varios segundos hombre armado llama segundo hombre vigilaba puerta negocio juntos empiezan forcejear vitrina exito embargo luego proceden romper vidrios culata arma logrando romperla proceden recoger joyas mujer encuentra sometida hombres suelo luego cumplir cometido dos asaltantes salieron caminando establecimiento mientras mujer mira piso final mujer sale establecimiento gritando ladrones jueves 13 octubre 2022 autoridades dado declaraciones respecto']"
     },
     "execution_count": 12,
     "metadata": {},
     "output_type": "execute_result"
    }
   ],
   "source": [
    "clean_sentences[0:3]"
   ],
   "metadata": {
    "collapsed": false,
    "ExecuteTime": {
     "end_time": "2023-08-26T00:19:51.666911600Z",
     "start_time": "2023-08-26T00:19:51.639951Z"
    }
   },
   "id": "d97d6e379d2bc0f9"
  },
  {
   "cell_type": "markdown",
   "source": [
    "Crear archivo txt"
   ],
   "metadata": {
    "collapsed": false
   },
   "id": "e0625128a06fee1f"
  },
  {
   "cell_type": "code",
   "execution_count": 13,
   "outputs": [
    {
     "name": "stdout",
     "output_type": "stream",
     "text": [
      "El array se ha guardado en articles.txt\n"
     ]
    }
   ],
   "source": [
    "file_path = 'articles.txt'\n",
    "with open(file_path, 'w') as file:\n",
    "    for sentence in clean_sentences:\n",
    "        file.write(sentence + '\\n')\n",
    "\n",
    "print(f\"El array se ha guardado en {file_path}\")"
   ],
   "metadata": {
    "collapsed": false,
    "ExecuteTime": {
     "end_time": "2023-08-26T00:19:55.598173800Z",
     "start_time": "2023-08-26T00:19:55.443301200Z"
    }
   },
   "id": "e74ff9081805c0e6"
  },
  {
   "cell_type": "markdown",
   "source": [
    "Carga del documento txt"
   ],
   "metadata": {
    "collapsed": false
   },
   "id": "6e331e8ad68772fb"
  },
  {
   "cell_type": "code",
   "execution_count": 14,
   "outputs": [],
   "source": [
    "with open('articles.txt', 'r', encoding='utf-8') as file:\n",
    "    documento = file.read()"
   ],
   "metadata": {
    "collapsed": false,
    "ExecuteTime": {
     "end_time": "2023-08-26T00:19:59.368411600Z",
     "start_time": "2023-08-26T00:19:59.304846400Z"
    }
   },
   "id": "7f4df28439bd9bfb"
  },
  {
   "cell_type": "code",
   "execution_count": 15,
   "outputs": [
    {
     "data": {
      "text/plain": "14236913"
     },
     "execution_count": 15,
     "metadata": {},
     "output_type": "execute_result"
    }
   ],
   "source": [
    "len(documento)"
   ],
   "metadata": {
    "collapsed": false,
    "ExecuteTime": {
     "end_time": "2023-08-26T00:20:00.110562600Z",
     "start_time": "2023-08-26T00:20:00.088112Z"
    }
   },
   "id": "3f3654cd15dd4357"
  },
  {
   "cell_type": "markdown",
   "source": [
    "Procesamiento de datos\n",
    "\n",
    "El objetivo del preprocesamiento es converir el documento en una lista de frases, y cada frase es una lista de palabras"
   ],
   "metadata": {
    "collapsed": false
   },
   "id": "687013ebe5122310"
  },
  {
   "cell_type": "code",
   "execution_count": 16,
   "outputs": [
    {
     "data": {
      "text/plain": "8993"
     },
     "execution_count": 16,
     "metadata": {},
     "output_type": "execute_result"
    }
   ],
   "source": [
    "# Dividir el documento en frases usando '\\n' como separador\n",
    "oraciones = documento.split('\\n')\n",
    "len(oraciones)"
   ],
   "metadata": {
    "collapsed": false,
    "ExecuteTime": {
     "end_time": "2023-08-26T00:20:26.947929700Z",
     "start_time": "2023-08-26T00:20:26.914372200Z"
    }
   },
   "id": "85c371dd1ef6f651"
  },
  {
   "cell_type": "code",
   "execution_count": 17,
   "outputs": [
    {
     "data": {
      "text/plain": "['bienvenidos segunda edicion apuesta ecuador iniciativa invita volar alto pyme emprendimiento disfrutar retroalimentacion coaches inscribete recibe reconocimientos potenciar negocio presentan avalado auspician ejecutiva 10 anos experiencia enfocada rol sector privado desarrollo economico social paises inicio carrera laboratorio innovacion banco interamericano desarrollo bid rol dentro bid apoyo supervision 25 proyectos diferentes monto 15 millones dolares prestamos asistencias tecnicas especialmente dedicadas fortalecimiento crecimiento pymes ecuador posteriormente trabajo londres mobile for development fundacion gsma dedicado estimular innovacion digital traves proyectos sectores desatendidos participacion gsma manejo fondos publicos oportunidad implementar proyectos paises peru benin ruanda kenia espana reino unido actualmente desempena gerente proyecto pyme mastercard ecuador area enfocada diseno soluciones beneficios micro pequena medianas empresas region espera apoyar camino digitalizacion pyme pais 27 anos experiencia sector automotor marcus licenciado administracion comunicacion social mba gestion negocios ingreso gm 1995 marcus oportunidad ejercer exitosamente varias posiciones unidades negocio gm sudamerica gm mercosur areas clave negocio manufactura compras cadena suministros ventas proveedores ademas sido reconocido liderazgo ejecucion importantes proyectos sudamerica sudafrica tailandia 25 anos experiencia marketing comunicacion convencido organizaciones requieren proposito trascendente actualmente gerente regional sierra director comunicacion pronaca empresa 60 anos mercado existe alimentar bien ecuatorianos workingup incubadora empresas acreditada senescyt 2016 cuenta experiencia direccion programas incubacion operacion prestigiosas convocatorias emprendimiento nivel nacional traves workingup canalizado 500 mil dolares capital semilla emprendedores instituciones publicas privadas',\n 'familiares amigos pedro aguilar sufrio grave accidente ultima valida rally nacional gualaceo trabajan reunir dinero permita cubrir gastos hospitalizacion ello invita ciudadania ser parte actividades realizan aguilar pasado 7 octubre participaba copiloto martin vintimila fallecio recupera forma lenta tarde jueves 13 octubre 2022 retirarian sedantes conocer reaccionaba operacion brazo izquierdo quedo pendiente viernes acuerdo recomendacion medica mientras continua promocion hamburguesa solidaria valor 10 dolares venta realiza dia extendera sabado 15 octubre sanducheria chic ubicado avenida remigio crespo junto sucursales banco pichincha martha jarrin colaboradoras cruzada solidaria mostro emocionada constatar respuesta ciudadania superaron todas expectativas agradecida familia aguilar aseguro organizan rifa cada boleto cuesta 10 dolares ocho premios ademas pretendan aportar economicamente pueden hacerlo cuenta ahorros cooperativa jep 4061240092 07 nombre aguilar moscoso jorge rodrigo numero cedula 01021359 77 mq',\n 'asaltantes llegaron armas fuego joyeria foto captura camaras seguridad captaron momento dos personas armadas asaltaron joyeria portoviejo manabi video puede ver hombre dialoga joven trabaja lugar aparentando ser cliente acto seguido saca arma fuego somete bruscamente empleada mujer empieza gritar asustada angustiada tras varios segundos hombre armado llama segundo hombre vigilaba puerta negocio juntos empiezan forcejear vitrina exito embargo luego proceden romper vidrios culata arma logrando romperla proceden recoger joyas mujer encuentra sometida hombres suelo luego cumplir cometido dos asaltantes salieron caminando establecimiento mientras mujer mira piso final mujer sale establecimiento gritando ladrones jueves 13 octubre 2022 autoridades dado declaraciones respecto']"
     },
     "execution_count": 17,
     "metadata": {},
     "output_type": "execute_result"
    }
   ],
   "source": [
    "oraciones[0:3]"
   ],
   "metadata": {
    "collapsed": false,
    "ExecuteTime": {
     "end_time": "2023-08-26T00:20:29.546668400Z",
     "start_time": "2023-08-26T00:20:29.528226500Z"
    }
   },
   "id": "8d7e4a0da9b938a2"
  },
  {
   "cell_type": "code",
   "execution_count": 18,
   "outputs": [],
   "source": [
    "import string\n",
    "\n",
    "oraciones_limpias = []\n",
    "for oracion in oraciones:\n",
    "    # Dividir por espacios\n",
    "    tokens = oracion.translate(str.maketrans('', '', string.punctuation)).split()\n",
    "    # Convertir a minusculas\n",
    "    tokens = [word.lower() for word in tokens if word.isalpha()]\n",
    "    if tokens:  # Agregar solo si hay tokens\n",
    "        oraciones_limpias.append(tokens)"
   ],
   "metadata": {
    "collapsed": false,
    "ExecuteTime": {
     "end_time": "2023-08-26T00:20:32.648394100Z",
     "start_time": "2023-08-26T00:20:32.011284200Z"
    }
   },
   "id": "c7220063699c930c"
  },
  {
   "cell_type": "code",
   "execution_count": 19,
   "outputs": [
    {
     "data": {
      "text/plain": "['bienvenidos',\n 'segunda',\n 'edicion',\n 'apuesta',\n 'ecuador',\n 'iniciativa',\n 'invita',\n 'volar',\n 'alto',\n 'pyme',\n 'emprendimiento',\n 'disfrutar',\n 'retroalimentacion',\n 'coaches',\n 'inscribete',\n 'recibe',\n 'reconocimientos',\n 'potenciar',\n 'negocio',\n 'presentan',\n 'avalado',\n 'auspician',\n 'ejecutiva',\n 'anos',\n 'experiencia',\n 'enfocada',\n 'rol',\n 'sector',\n 'privado',\n 'desarrollo',\n 'economico',\n 'social',\n 'paises',\n 'inicio',\n 'carrera',\n 'laboratorio',\n 'innovacion',\n 'banco',\n 'interamericano',\n 'desarrollo',\n 'bid',\n 'rol',\n 'dentro',\n 'bid',\n 'apoyo',\n 'supervision',\n 'proyectos',\n 'diferentes',\n 'monto',\n 'millones',\n 'dolares',\n 'prestamos',\n 'asistencias',\n 'tecnicas',\n 'especialmente',\n 'dedicadas',\n 'fortalecimiento',\n 'crecimiento',\n 'pymes',\n 'ecuador',\n 'posteriormente',\n 'trabajo',\n 'londres',\n 'mobile',\n 'for',\n 'development',\n 'fundacion',\n 'gsma',\n 'dedicado',\n 'estimular',\n 'innovacion',\n 'digital',\n 'traves',\n 'proyectos',\n 'sectores',\n 'desatendidos',\n 'participacion',\n 'gsma',\n 'manejo',\n 'fondos',\n 'publicos',\n 'oportunidad',\n 'implementar',\n 'proyectos',\n 'paises',\n 'peru',\n 'benin',\n 'ruanda',\n 'kenia',\n 'espana',\n 'reino',\n 'unido',\n 'actualmente',\n 'desempena',\n 'gerente',\n 'proyecto',\n 'pyme',\n 'mastercard',\n 'ecuador',\n 'area',\n 'enfocada',\n 'diseno',\n 'soluciones',\n 'beneficios',\n 'micro',\n 'pequena',\n 'medianas',\n 'empresas',\n 'region',\n 'espera',\n 'apoyar',\n 'camino',\n 'digitalizacion',\n 'pyme',\n 'pais',\n 'anos',\n 'experiencia',\n 'sector',\n 'automotor',\n 'marcus',\n 'licenciado',\n 'administracion',\n 'comunicacion',\n 'social',\n 'mba',\n 'gestion',\n 'negocios',\n 'ingreso',\n 'gm',\n 'marcus',\n 'oportunidad',\n 'ejercer',\n 'exitosamente',\n 'varias',\n 'posiciones',\n 'unidades',\n 'negocio',\n 'gm',\n 'sudamerica',\n 'gm',\n 'mercosur',\n 'areas',\n 'clave',\n 'negocio',\n 'manufactura',\n 'compras',\n 'cadena',\n 'suministros',\n 'ventas',\n 'proveedores',\n 'ademas',\n 'sido',\n 'reconocido',\n 'liderazgo',\n 'ejecucion',\n 'importantes',\n 'proyectos',\n 'sudamerica',\n 'sudafrica',\n 'tailandia',\n 'anos',\n 'experiencia',\n 'marketing',\n 'comunicacion',\n 'convencido',\n 'organizaciones',\n 'requieren',\n 'proposito',\n 'trascendente',\n 'actualmente',\n 'gerente',\n 'regional',\n 'sierra',\n 'director',\n 'comunicacion',\n 'pronaca',\n 'empresa',\n 'anos',\n 'mercado',\n 'existe',\n 'alimentar',\n 'bien',\n 'ecuatorianos',\n 'workingup',\n 'incubadora',\n 'empresas',\n 'acreditada',\n 'senescyt',\n 'cuenta',\n 'experiencia',\n 'direccion',\n 'programas',\n 'incubacion',\n 'operacion',\n 'prestigiosas',\n 'convocatorias',\n 'emprendimiento',\n 'nivel',\n 'nacional',\n 'traves',\n 'workingup',\n 'canalizado',\n 'mil',\n 'dolares',\n 'capital',\n 'semilla',\n 'emprendedores',\n 'instituciones',\n 'publicas',\n 'privadas']"
     },
     "execution_count": 19,
     "metadata": {},
     "output_type": "execute_result"
    }
   ],
   "source": [
    "oraciones_limpias[0]"
   ],
   "metadata": {
    "collapsed": false,
    "ExecuteTime": {
     "end_time": "2023-08-26T00:20:33.758604900Z",
     "start_time": "2023-08-26T00:20:33.723564600Z"
    }
   },
   "id": "a6f32832ce27a9fc"
  },
  {
   "cell_type": "markdown",
   "source": [
    "Entrenamiento del modelo Word2Vec"
   ],
   "metadata": {
    "collapsed": false
   },
   "id": "31d4c1de68feaaa1"
  },
  {
   "cell_type": "code",
   "execution_count": 20,
   "outputs": [],
   "source": [
    "import gensim\n",
    "from gensim.models import Word2Vec\n",
    "\n",
    "model = Word2Vec(sentences=oraciones_limpias, vector_size=300, window=5, min_count=1, workers=2)"
   ],
   "metadata": {
    "collapsed": false,
    "ExecuteTime": {
     "end_time": "2023-08-26T00:22:10.996168900Z",
     "start_time": "2023-08-26T00:21:45.721949Z"
    }
   },
   "id": "8efe7959ce2878fb"
  },
  {
   "cell_type": "markdown",
   "source": [
    "Guardar el Modelo"
   ],
   "metadata": {
    "collapsed": false
   },
   "id": "100f3633b9b50f96"
  },
  {
   "cell_type": "code",
   "execution_count": 21,
   "outputs": [],
   "source": [
    "model.wv.save_word2vec_format('noticias_emb.bin', binary=True)"
   ],
   "metadata": {
    "collapsed": false,
    "ExecuteTime": {
     "end_time": "2023-08-26T00:22:15.260643200Z",
     "start_time": "2023-08-26T00:22:14.355129800Z"
    }
   },
   "id": "a61a365116a8567"
  },
  {
   "cell_type": "markdown",
   "source": [
    "Rendimiento del modelo"
   ],
   "metadata": {
    "collapsed": false
   },
   "id": "3555287e0ef76599"
  },
  {
   "cell_type": "code",
   "execution_count": 22,
   "outputs": [
    {
     "name": "stdout",
     "output_type": "stream",
     "text": [
      "[ 0.56577224  0.24580954  0.6058785  -0.34278432 -1.1823518  -0.6560753\n",
      "  0.80686903  0.528419    0.01614326  0.4338605   0.22180404 -0.9236564\n",
      " -0.89271516  0.30682576 -0.77035666  0.68374085 -0.24789856  1.3749753\n",
      " -0.5496127  -0.793276    0.62428683  0.56469595  1.4290577  -0.27765948\n",
      " -0.95003724  0.4122731   0.07914828 -1.0459045  -0.3200105  -0.03261403\n",
      "  0.01156869 -0.42926595 -0.05666877 -0.97143483 -0.8479405   0.17177851\n",
      "  0.8662544  -2.022222    2.2412438  -0.5387943  -0.6197062   0.919063\n",
      " -1.0344826  -0.89382094 -0.15099677  1.2524313  -0.11809743  1.5041422\n",
      "  0.46017092  1.074729    1.1759868   0.9706393   0.02923678  0.6257065\n",
      " -0.01658825  0.34128007  0.06233167 -0.68229175  0.08546633  0.41806576\n",
      " -0.11096312 -0.3832779   0.73793185 -0.24999882 -0.82630634  0.25782374\n",
      " -0.43595144  0.8923814  -0.192244    0.69212025  0.11971151  1.0693729\n",
      " -0.6127293  -0.84511214  0.99979097  0.84178305  0.3984091  -0.25761816\n",
      "  0.9086061   0.49412882  1.0384231   0.6046149  -0.52323925  1.5019389\n",
      " -0.3675749   0.91641283 -0.09935153 -0.12514637  0.6663142   0.7160756\n",
      "  0.33411482  0.18226299  0.5571992  -0.08063004  0.09667045  0.9226588\n",
      "  0.11609141  0.3970669   0.22730094  0.97402245 -0.71707505 -1.0529315\n",
      "  0.19271906  1.8178595   0.6377193  -0.27564827  0.5855644   0.4850632\n",
      " -0.11756263 -0.182119    0.19905058  0.3529254   0.26377723  0.55787224\n",
      " -0.56114584  0.45926723  0.19706737  1.3806788   0.5468512  -1.9154352\n",
      "  0.6242164  -0.45717853 -0.04565522 -0.81536174  0.40763837  1.2189935\n",
      " -0.01921487  1.239821    0.08605034  0.7611574   0.58725476  0.7125212\n",
      "  0.27308774 -0.09778726 -0.07024665  2.082327    0.33155778  0.29511735\n",
      " -0.38858855  0.2345913  -0.463054   -0.32244626  0.11350263  0.41446978\n",
      "  0.03837087 -0.44598708 -0.12214936 -1.2215868   0.00890399 -0.1643904\n",
      "  0.89356875 -1.3309369  -0.1755678  -0.2776149  -0.7037287   1.4476699\n",
      "  0.49537277  0.4131136  -0.40482596  1.0796032  -1.4683944  -0.26644155\n",
      "  0.2635381   0.06230998  0.32933852  0.97450316  0.8185975  -0.17108119\n",
      "  0.7699799  -0.05808469 -0.996412    0.91213787 -0.07227173 -1.0352539\n",
      " -0.03336123 -1.0375795  -0.09606568  0.3767793   0.16632454 -0.09274688\n",
      " -0.89094484  1.2892939  -0.05319459 -0.00520965  0.36164293  0.21642041\n",
      "  0.71745527  0.1563719   0.827657   -0.3430283  -0.43241975 -0.77406204\n",
      " -0.9469748  -1.0438216  -1.919468   -0.16753316  0.7134431  -0.19630483\n",
      " -0.11995713  0.49422848  0.04601992  0.42909083  0.22198027 -0.4915975\n",
      "  0.8251109   0.21749331  0.37162665  0.19000477  0.2530302   0.66929674\n",
      " -0.6137582  -0.6776636   1.2216674   1.2519064  -0.09234024 -0.66806465\n",
      "  0.29543525 -0.6442671  -0.90598273 -0.19033408  0.32452577  0.7164676\n",
      " -0.2730668  -1.3301154   0.25161374 -0.77173895 -0.53023136  0.64031196\n",
      " -0.2926549  -0.48903015  0.81865245  0.18144885 -1.0182936   0.612824\n",
      " -1.1362065  -0.8596054  -0.85359806  0.30174002 -0.28830263 -0.38935727\n",
      "  0.7524512   0.6736021  -0.23269978  0.36221597  0.33146074  0.06119868\n",
      "  0.06926585 -0.858416    0.04499685  1.4716531   0.318265    0.43456298\n",
      " -1.1591749  -0.71893555 -2.4338245  -0.5989218   0.9370937  -0.19208017\n",
      " -0.5147698  -0.9225519  -0.57023644  0.2605481  -0.6101812  -0.7845948\n",
      " -0.12192044  0.09339162  0.29179832  0.29808915 -0.8977312   1.3528131\n",
      "  0.4760359   0.7558889  -0.2575569   0.3114623   0.24192946  1.2395798\n",
      "  0.41697642  1.0463926  -1.4402449  -1.0447199  -0.27097696  1.3696227\n",
      " -1.2499334   0.2775048   0.32327315 -0.5760205   0.28397417 -0.1359777\n",
      "  0.43072075  0.25177604  1.070014   -0.3642814   1.5459481  -0.41430277\n",
      "  0.4857685   0.651859    0.9673303  -0.5823858   0.7113471  -0.59528136]\n"
     ]
    }
   ],
   "source": [
    "vector = model.wv['ecuador']\n",
    "print(vector)"
   ],
   "metadata": {
    "collapsed": false,
    "ExecuteTime": {
     "end_time": "2023-08-26T00:22:16.668297300Z",
     "start_time": "2023-08-26T00:22:16.634009700Z"
    }
   },
   "id": "b91844d8de7409e3"
  },
  {
   "cell_type": "code",
   "execution_count": 23,
   "outputs": [
    {
     "data": {
      "text/plain": "[('pais', 0.7347294092178345),\n ('unidos', 0.7018400430679321),\n ('peru', 0.6805263757705688),\n ('escandinavia', 0.6782144904136658),\n ('europa', 0.6648626923561096),\n ('establishment', 0.6483718752861023),\n ('relacionadas', 0.6430103778839111),\n ('copaban', 0.636596143245697),\n ('rompedores', 0.6261861324310303),\n ('httpswwwelcomerciocomultimahora', 0.6221025586128235)]"
     },
     "execution_count": 23,
     "metadata": {},
     "output_type": "execute_result"
    }
   ],
   "source": [
    "palabras_cercanas = model.wv.most_similar(\"ecuador\", topn=10)\n",
    "palabras_cercanas"
   ],
   "metadata": {
    "collapsed": false,
    "ExecuteTime": {
     "end_time": "2023-08-26T00:22:18.506859200Z",
     "start_time": "2023-08-26T00:22:18.402118800Z"
    }
   },
   "id": "542f4adc302a7e7e"
  },
  {
   "cell_type": "code",
   "execution_count": 24,
   "outputs": [
    {
     "data": {
      "text/plain": "[('barcelona', 0.9859930276870728),\n ('aucas', 0.9766380190849304),\n ('sc', 0.9740095734596252),\n ('delfin', 0.9571717381477356),\n ('idolo', 0.9531016945838928),\n ('cuadro', 0.949869692325592),\n ('fc', 0.9463430643081665),\n ('cotejo', 0.9452903866767883),\n ('elenco', 0.9429147243499756),\n ('manchester', 0.9389315843582153)]"
     },
     "execution_count": 24,
     "metadata": {},
     "output_type": "execute_result"
    }
   ],
   "source": [
    "palabras_cercanas = model.wv.most_similar(\"emelec\", topn=10)\n",
    "palabras_cercanas"
   ],
   "metadata": {
    "collapsed": false,
    "ExecuteTime": {
     "end_time": "2023-08-26T00:22:19.667920800Z",
     "start_time": "2023-08-26T00:22:19.645270500Z"
    }
   },
   "id": "96e3352b2f7f5bc"
  },
  {
   "cell_type": "code",
   "execution_count": 25,
   "outputs": [
    {
     "data": {
      "text/plain": "[('riobamba', 0.9650902152061462),\n ('pascuales', 0.9555467963218689),\n ('machala', 0.9548144936561584),\n ('loja', 0.9480268359184265),\n ('ubicada', 0.9452537894248962),\n ('bellavista', 0.9448482394218445),\n ('portoviejo', 0.9434457421302795),\n ('jipijapa', 0.9421283006668091),\n ('suburbio', 0.9400893449783325),\n ('monte', 0.9396555423736572)]"
     },
     "execution_count": 25,
     "metadata": {},
     "output_type": "execute_result"
    }
   ],
   "source": [
    "palabras_cercanas = model.wv.most_similar(\"ambato\", topn=10)\n",
    "palabras_cercanas"
   ],
   "metadata": {
    "collapsed": false,
    "ExecuteTime": {
     "end_time": "2023-08-26T00:22:21.185288Z",
     "start_time": "2023-08-26T00:22:21.163053400Z"
    }
   },
   "id": "6a1372b614bd27b0"
  },
  {
   "cell_type": "code",
   "execution_count": 26,
   "outputs": [
    {
     "data": {
      "text/plain": "[('expresidente', 0.9691561460494995),\n ('rafael', 0.9644551873207092),\n ('luque', 0.9547069668769836),\n ('lenin', 0.947096049785614),\n ('presidido', 0.9379538893699646),\n ('emplazo', 0.9359965920448303),\n ('asesor', 0.9328013062477112),\n ('legislador', 0.9326464533805847),\n ('lecaro', 0.9256418943405151),\n ('exfuncionario', 0.9247221946716309)]"
     },
     "execution_count": 26,
     "metadata": {},
     "output_type": "execute_result"
    }
   ],
   "source": [
    "palabras_cercanas = model.wv.most_similar(\"correa\", topn=10)\n",
    "palabras_cercanas"
   ],
   "metadata": {
    "collapsed": false,
    "ExecuteTime": {
     "end_time": "2023-08-26T00:22:21.772455700Z",
     "start_time": "2023-08-26T00:22:21.744753700Z"
    }
   },
   "id": "2491703ec345e12d"
  },
  {
   "cell_type": "code",
   "execution_count": 27,
   "outputs": [
    {
     "data": {
      "text/plain": "[('volodimir', 0.9004852175712585),\n ('republica', 0.8985166549682617),\n ('lasso', 0.8951858282089233),\n ('leonidas', 0.8896188735961914),\n ('iza', 0.8861362338066101),\n ('vladimir', 0.8847513198852539),\n ('izquierdista', 0.8835869431495667),\n ('biden', 0.8834946751594543),\n ('petro', 0.8794867396354675),\n ('guillermo', 0.877174437046051)]"
     },
     "execution_count": 27,
     "metadata": {},
     "output_type": "execute_result"
    }
   ],
   "source": [
    "palabras_cercanas = model.wv.most_similar(\"presidente\", topn=10)\n",
    "palabras_cercanas"
   ],
   "metadata": {
    "collapsed": false,
    "ExecuteTime": {
     "end_time": "2023-08-26T00:22:22.669986300Z",
     "start_time": "2023-08-26T00:22:22.630714900Z"
    }
   },
   "id": "7966d6b9b626d2ac"
  },
  {
   "cell_type": "code",
   "execution_count": 28,
   "outputs": [],
   "source": [
    "from sklearn.decomposition import PCA\n",
    "from matplotlib import pyplot"
   ],
   "metadata": {
    "collapsed": false,
    "ExecuteTime": {
     "end_time": "2023-08-26T00:22:25.168263700Z",
     "start_time": "2023-08-26T00:22:23.963232700Z"
    }
   },
   "id": "3a355c511feae00f"
  },
  {
   "cell_type": "code",
   "execution_count": 29,
   "outputs": [],
   "source": [
    "## Next you have some necessary steps part of the transformation of 300dim to 2D in order to plot\n",
    "pca = PCA(n_components=2)"
   ],
   "metadata": {
    "collapsed": false,
    "ExecuteTime": {
     "end_time": "2023-08-26T00:22:26.113487800Z",
     "start_time": "2023-08-26T00:22:26.087156800Z"
    }
   },
   "id": "7a1f2b12e0424b4e"
  },
  {
   "cell_type": "code",
   "execution_count": 30,
   "outputs": [
    {
     "data": {
      "text/plain": "<Figure size 640x480 with 1 Axes>",
      "image/png": "[encoded data removed]"
     },
     "metadata": {},
     "output_type": "display_data"
    }
   ],
   "source": [
    "# you can think of a group of words that make sense to be together/far away to view in the plot\n",
    "toplot_words = ['amor', 'bueno', 'feliz', 'corazon',  #words about positive feelings \n",
    "                'champions', 'league', 'chelsea', 'cup',  #futbal-related terms\n",
    "                'facebook', 'youtube', 'instagram', 'twitter',  #media-related words\n",
    "                'obama', 'trump', 'eeuu', 'maduro', 'correa', 'ecuador', 'venezuela'  #politics-related words\n",
    "                ]\n",
    "\n",
    "toplot_vecs = [model.wv[w] for w in toplot_words]  #getting the vectors for the specific words in toplot_words\n",
    "result = pca.fit_transform(toplot_vecs)  #call to pca for transformation\n",
    "\n",
    "# finally plotting...\n",
    "pyplot.scatter(result[:, 0], result[:, 1])\n",
    "for i, word in enumerate(toplot_words):\n",
    "    pyplot.annotate(word, xy=(result[i, 0], result[i, 1]))\n",
    "pyplot.show()"
   ],
   "metadata": {
    "collapsed": false,
    "ExecuteTime": {
     "end_time": "2023-08-26T00:22:27.592506600Z",
     "start_time": "2023-08-26T00:22:26.999631700Z"
    }
   },
   "id": "b4a6fa1c13c570e0"
  },
  {
   "cell_type": "markdown",
   "source": [
    "Analogías"
   ],
   "metadata": {
    "collapsed": false
   },
   "id": "63726646857f4df3"
  },
  {
   "cell_type": "code",
   "execution_count": 31,
   "outputs": [
    {
     "data": {
      "text/plain": "[('rafael', 0.8691264986991882),\n ('canciller', 0.8506040573120117),\n ('lenin', 0.8491923809051514),\n ('moreno', 0.8440887331962585),\n ('expresidente', 0.8394977450370789),\n ('rosero', 0.8347668051719666),\n ('luque', 0.833598792552948),\n ('excandidato', 0.8301326036453247),\n ('larrea', 0.829746425151825),\n ('quiroz', 0.8289150595664978)]"
     },
     "execution_count": 31,
     "metadata": {},
     "output_type": "execute_result"
    }
   ],
   "source": [
    "similar_words = model.wv.most_similar(positive=['correa', 'venezuela'], negative=['ecuador'], topn=10)\n",
    "similar_words"
   ],
   "metadata": {
    "collapsed": false,
    "ExecuteTime": {
     "end_time": "2023-08-26T00:22:31.419667Z",
     "start_time": "2023-08-26T00:22:31.398752900Z"
    }
   },
   "id": "b2b1f4d36bb4c0ba"
  },
  {
   "cell_type": "code",
   "execution_count": 32,
   "outputs": [
    {
     "data": {
      "text/plain": "[('distrito', 0.808272659778595),\n ('coopno', 0.7804205417633057),\n ('caraveli', 0.7731323838233948),\n ('guayaquil', 0.7708156704902649),\n ('bienestaranimalgye', 0.7693125009536743),\n ('cuenc', 0.7560774683952332),\n ('extranjeria', 0.7494398355484009),\n ('antisobornos', 0.7480509281158447),\n ('illinizas', 0.7434638142585754),\n ('limino', 0.7425429224967957)]"
     },
     "execution_count": 32,
     "metadata": {},
     "output_type": "execute_result"
    }
   ],
   "source": [
    "similar_words = model.wv.most_similar(positive=['ambato', 'quito'], negative=['feliz'], topn=10)\n",
    "similar_words"
   ],
   "metadata": {
    "collapsed": false,
    "ExecuteTime": {
     "end_time": "2023-08-26T00:22:31.954846200Z",
     "start_time": "2023-08-26T00:22:31.930891100Z"
    }
   },
   "id": "7cacb288520d00f9"
  },
  {
   "cell_type": "code",
   "execution_count": 40,
   "outputs": [
    {
     "data": {
      "text/plain": "[('lanzaron', 0.9441190958023071),\n ('intentaba', 0.940937876701355),\n ('cruce', 0.9356849789619446),\n ('ataco', 0.9314771890640259),\n ('cuadra', 0.929954469203949),\n ('mezquita', 0.9271810054779053),\n ('permanecido', 0.9262248873710632),\n ('coche', 0.9261677861213684),\n ('ladera', 0.9241077899932861),\n ('arribaron', 0.9237600564956665)]"
     },
     "execution_count": 40,
     "metadata": {},
     "output_type": "execute_result"
    }
   ],
   "source": [
    "similar_words = model.wv.most_similar(positive=['avion', 'barco'], negative=['despegue'], topn=10)\n",
    "similar_words"
   ],
   "metadata": {
    "collapsed": false,
    "ExecuteTime": {
     "end_time": "2023-08-26T00:27:34.497844800Z",
     "start_time": "2023-08-26T00:27:34.457124200Z"
    }
   },
   "id": "59c325b1e861b514"
  },
  {
   "cell_type": "code",
   "execution_count": 39,
   "outputs": [
    {
     "data": {
      "text/plain": "[('caces', 0.8362231850624084),\n ('diplomado', 0.8354101777076721),\n ('adscrito', 0.8312475681304932),\n ('prepagada', 0.8307017087936401),\n ('ciencia', 0.8291858434677124),\n ('inspi', 0.8286521434783936),\n ('pedagogia', 0.8263671398162842),\n ('viceministra', 0.823488175868988),\n ('intercultural', 0.8164026141166687),\n ('mtt', 0.8157991766929626)]"
     },
     "execution_count": 39,
     "metadata": {},
     "output_type": "execute_result"
    }
   ],
   "source": [
    "similar_words = model.wv.most_similar(positive=['emprendimiento', 'educacion'], negative=['negocios'], topn=10)\n",
    "similar_words"
   ],
   "metadata": {
    "collapsed": false,
    "ExecuteTime": {
     "end_time": "2023-08-26T00:27:19.692956200Z",
     "start_time": "2023-08-26T00:27:19.652475200Z"
    }
   },
   "id": "7424f569a526ccc3"
  },
  {
   "cell_type": "code",
   "execution_count": 38,
   "outputs": [
    {
     "data": {
      "text/plain": "[('cerro', 0.8394054174423218),\n ('casitagua', 0.8322449922561646),\n ('turupamba', 0.8138219714164734),\n ('monteolivo', 0.8127524256706238),\n ('enterrarla', 0.7955969572067261),\n ('cenepa', 0.7950347661972046),\n ('frondoso', 0.7898752093315125),\n ('ruperto', 0.7825239896774292),\n ('enriquez', 0.781564474105835),\n ('unemi', 0.7812885046005249)]"
     },
     "execution_count": 38,
     "metadata": {},
     "output_type": "execute_result"
    }
   ],
   "source": [
    "similar_words = model.wv.most_similar(positive=['hospital', 'escuela'], negative=['salud'], topn=10)\n",
    "similar_words"
   ],
   "metadata": {
    "collapsed": false,
    "ExecuteTime": {
     "end_time": "2023-08-26T00:27:08.916827500Z",
     "start_time": "2023-08-26T00:27:08.887827700Z"
    }
   },
   "id": "77d23efec2031aed"
  },
  {
   "cell_type": "code",
   "execution_count": 37,
   "outputs": [
    {
     "data": {
      "text/plain": "[('organizacional', 0.9404217004776001),\n ('desempena', 0.9375580549240112),\n ('ingeniera', 0.9362909197807312),\n ('monzon', 0.9346729516983032),\n ('guevara', 0.9330515265464783),\n ('doctora', 0.93291836977005),\n ('dr', 0.9321550130844116),\n ('arquitecto', 0.9321464896202087),\n ('pianista', 0.9308106899261475),\n ('ceo', 0.9302084445953369)]"
     },
     "execution_count": 37,
     "metadata": {},
     "output_type": "execute_result"
    }
   ],
   "source": [
    "similar_words = model.wv.most_similar(positive=['ladron', 'estudiante'], negative=['robo'], topn=10)\n",
    "similar_words"
   ],
   "metadata": {
    "collapsed": false,
    "ExecuteTime": {
     "end_time": "2023-08-26T00:26:54.724228700Z",
     "start_time": "2023-08-26T00:26:54.674740100Z"
    }
   },
   "id": "2e204e7424bb94fb"
  },
  {
   "cell_type": "code",
   "execution_count": 41,
   "outputs": [
    {
     "data": {
      "text/plain": "[('transitaba', 0.8932178020477295),\n ('cabezal', 0.8848901987075806),\n ('deslizamiento', 0.8803356885910034),\n ('trailer', 0.8765203952789307),\n ('atrapados', 0.875813364982605),\n ('detergentes', 0.8724955320358276),\n ('bus', 0.8666867613792419),\n ('circulaban', 0.8627653121948242),\n ('provoco', 0.8590365648269653),\n ('movieron', 0.8585566282272339)]"
     },
     "execution_count": 41,
     "metadata": {},
     "output_type": "execute_result"
    }
   ],
   "source": [
    "similar_words = model.wv.most_similar(positive=['forcejeo', 'lluvia'], negative=['resistencia'], topn=10)\n",
    "similar_words"
   ],
   "metadata": {
    "collapsed": false,
    "ExecuteTime": {
     "end_time": "2023-08-26T00:28:05.462640500Z",
     "start_time": "2023-08-26T00:28:05.423136Z"
    }
   },
   "id": "4ddc1c40417dc00d"
  },
  {
   "cell_type": "code",
   "execution_count": 42,
   "outputs": [
    {
     "data": {
      "text/plain": "[('pambachupa', 0.890112042427063),\n ('losas', 0.8883123397827148),\n ('duranboliche', 0.8881904482841492),\n ('circulaba', 0.8829360604286194),\n ('residencial', 0.876883327960968),\n ('tumbaco', 0.8763194680213928),\n ('gasolinera', 0.8746213912963867),\n ('afueras', 0.8742498755455017),\n ('parqueadero', 0.8733379244804382),\n ('transitaba', 0.8725453019142151)]"
     },
     "execution_count": 42,
     "metadata": {},
     "output_type": "execute_result"
    }
   ],
   "source": [
    "similar_words = model.wv.most_similar(positive=['ciudad', 'joyeria'], negative=['pais'], topn=10)\n",
    "similar_words"
   ],
   "metadata": {
    "collapsed": false,
    "ExecuteTime": {
     "end_time": "2023-08-26T00:28:23.552886600Z",
     "start_time": "2023-08-26T00:28:23.511876400Z"
    }
   },
   "id": "b2bb8c8a96a4408c"
  },
  {
   "cell_type": "code",
   "execution_count": 43,
   "outputs": [
    {
     "data": {
      "text/plain": "[('confesado', 0.936333954334259),\n ('femicida', 0.9259151816368103),\n ('casquete', 0.9210560917854309),\n ('lilian', 0.9140572547912598),\n ('taxista', 0.9125774502754211),\n ('greymez', 0.9096716046333313),\n ('padrastro', 0.9076263904571533),\n ('asesino', 0.9064092040061951),\n ('cometio', 0.9025260806083679),\n ('sujeto', 0.900671124458313)]"
     },
     "execution_count": 43,
     "metadata": {},
     "output_type": "execute_result"
    }
   ],
   "source": [
    "similar_words = model.wv.most_similar(positive=['cliente', 'pasajero'], negative=['compra'], topn=10)\n",
    "similar_words"
   ],
   "metadata": {
    "collapsed": false,
    "ExecuteTime": {
     "end_time": "2023-08-26T00:28:40.403238700Z",
     "start_time": "2023-08-26T00:28:40.375037500Z"
    }
   },
   "id": "daa2e65c6ac74d13"
  },
  {
   "cell_type": "code",
   "execution_count": 44,
   "outputs": [
    {
     "data": {
      "text/plain": "[('deleg', 0.914764404296875),\n ('lujo', 0.9147244691848755),\n ('bisht', 0.9103283286094666),\n ('organizaran', 0.909254789352417),\n ('brindis', 0.9084954261779785),\n ('tipica', 0.9084915518760681),\n ('representativas', 0.9066532850265503),\n ('funk', 0.906523585319519),\n ('disfrutan', 0.9058809876441956),\n ('exclusivos', 0.9054269194602966)]"
     },
     "execution_count": 44,
     "metadata": {},
     "output_type": "execute_result"
    }
   ],
   "source": [
    "similar_words = model.wv.most_similar(positive=['emocion', 'angustiado'], negative=['feliz'], topn=10)\n",
    "similar_words"
   ],
   "metadata": {
    "collapsed": false,
    "ExecuteTime": {
     "end_time": "2023-08-26T00:29:00.919236600Z",
     "start_time": "2023-08-26T00:29:00.892483900Z"
    }
   },
   "id": "3b6ab695344d3b1c"
  },
  {
   "cell_type": "markdown",
   "source": [
    "Calcular la similitud coseno entre vectores de palabras"
   ],
   "metadata": {
    "collapsed": false
   },
   "id": "c7cce0f61c8f9ab4"
  },
  {
   "cell_type": "code",
   "execution_count": 45,
   "outputs": [
    {
     "name": "stdout",
     "output_type": "stream",
     "text": [
      "Similarity between \"obama\" and \"maduro\": 0.9289897\n",
      "Similarity between \"obama\" and \"trump\": 0.9304854\n",
      "Similarity between \"obama\" and \"shakira\": 0.6065737\n"
     ]
    }
   ],
   "source": [
    "# Calculate cosine similarity between word vectors\n",
    "sim1 = model.wv.similarity('obama', 'maduro')\n",
    "sim2 = model.wv.similarity('obama', 'trump')\n",
    "sim3 = model.wv.similarity('obama', 'shakira')\n",
    "\n",
    "print('Similarity between \"obama\" and \"maduro\":', sim1)\n",
    "print('Similarity between \"obama\" and \"trump\":', sim2)\n",
    "print('Similarity between \"obama\" and \"shakira\":', sim3)"
   ],
   "metadata": {
    "collapsed": false,
    "ExecuteTime": {
     "end_time": "2023-08-26T00:29:21.359231100Z",
     "start_time": "2023-08-26T00:29:21.342053800Z"
    }
   },
   "id": "6eeebf856fd29036"
  },
  {
   "cell_type": "code",
   "execution_count": 46,
   "outputs": [
    {
     "name": "stdout",
     "output_type": "stream",
     "text": [
      "Similarity between \"universidad\" and \"ciencia\": 0.65495145\n",
      "Similarity between \"universidad\" and \"investigacion\": 0.31924576\n",
      "Similarity between \"universidad\" and \"futbol\": 0.39939487\n"
     ]
    }
   ],
   "source": [
    "# Calculate cosine similarity between word vectors\n",
    "sim1 = model.wv.similarity('universidad', 'ciencia')\n",
    "sim2 = model.wv.similarity('universidad', 'investigacion')\n",
    "sim3 = model.wv.similarity('universidad', 'futbol')\n",
    "\n",
    "print('Similarity between \"universidad\" and \"ciencia\":', sim1)\n",
    "print('Similarity between \"universidad\" and \"investigacion\":', sim2)\n",
    "print('Similarity between \"universidad\" and \"futbol\":', sim3)\n"
   ],
   "metadata": {
    "collapsed": false,
    "ExecuteTime": {
     "end_time": "2023-08-26T00:29:24.304232100Z",
     "start_time": "2023-08-26T00:29:24.282469700Z"
    }
   },
   "id": "7860c7bef2a3468f"
  },
  {
   "cell_type": "code",
   "execution_count": 47,
   "outputs": [
    {
     "name": "stdout",
     "output_type": "stream",
     "text": [
      "Similarity between \"bienvenidos\" and \"segunda\": 0.48134685\n",
      "Similarity between \"bienvenidos\" and \"edicion\": 0.64508104\n",
      "Similarity between \"bienvenidos\" and \"pymes\": 0.9009172\n"
     ]
    }
   ],
   "source": [
    "# Calculate cosine similarity between word vectors\n",
    "sim1 = model.wv.similarity('bienvenidos', 'segunda')\n",
    "sim2 = model.wv.similarity('bienvenidos', 'edicion')\n",
    "sim3 = model.wv.similarity('bienvenidos', 'pymes')\n",
    "\n",
    "print('Similarity between \"bienvenidos\" and \"segunda\":', sim1)\n",
    "print('Similarity between \"bienvenidos\" and \"edicion\":', sim2)\n",
    "print('Similarity between \"bienvenidos\" and \"pymes\":', sim3)"
   ],
   "metadata": {
    "collapsed": false,
    "ExecuteTime": {
     "end_time": "2023-08-26T00:33:34.951811500Z",
     "start_time": "2023-08-26T00:33:34.912649300Z"
    }
   },
   "id": "a169f017b5992a7b"
  },
  {
   "cell_type": "code",
   "execution_count": 48,
   "outputs": [
    {
     "name": "stdout",
     "output_type": "stream",
     "text": [
      "Similarity between \"emprendimiento\" and \"negocio\": 0.8843998\n",
      "Similarity between \"emprendimiento\" and \"innovacion\": 0.85507286\n",
      "Similarity between \"emprendimiento\" and \"desarrollo\": 0.69602656\n"
     ]
    }
   ],
   "source": [
    "# Calculate cosine similarity between word vectors\n",
    "sim1 = model.wv.similarity('emprendimiento', 'negocio')\n",
    "sim2 = model.wv.similarity('emprendimiento', 'innovacion')\n",
    "sim3 = model.wv.similarity('emprendimiento', 'desarrollo')\n",
    "\n",
    "print('Similarity between \"emprendimiento\" and \"negocio\":', sim1)\n",
    "print('Similarity between \"emprendimiento\" and \"innovacion\":', sim2)\n",
    "print('Similarity between \"emprendimiento\" and \"desarrollo\":', sim3)\n"
   ],
   "metadata": {
    "collapsed": false,
    "ExecuteTime": {
     "end_time": "2023-08-26T00:34:22.553350300Z",
     "start_time": "2023-08-26T00:34:22.516989100Z"
    }
   },
   "id": "fe5d73980c5bb85b"
  },
  {
   "cell_type": "code",
   "execution_count": 49,
   "outputs": [
    {
     "name": "stdout",
     "output_type": "stream",
     "text": [
      "Similarity between \"coaches\" and \"retroalimentacion\": 0.88993645\n",
      "Similarity between \"coaches\" and \"equipo\": 0.5358455\n",
      "Similarity between \"coaches\" and \"entrenadores\": 0.8388332\n"
     ]
    }
   ],
   "source": [
    "# Calculate cosine similarity between word vectors\n",
    "sim1 = model.wv.similarity('coaches', 'retroalimentacion')\n",
    "sim2 = model.wv.similarity('coaches', 'equipo')\n",
    "sim3 = model.wv.similarity('coaches', 'entrenadores')\n",
    "\n",
    "print('Similarity between \"coaches\" and \"retroalimentacion\":', sim1)\n",
    "print('Similarity between \"coaches\" and \"equipo\":', sim2)\n",
    "print('Similarity between \"coaches\" and \"entrenadores\":', sim3)"
   ],
   "metadata": {
    "collapsed": false,
    "ExecuteTime": {
     "end_time": "2023-08-26T00:35:19.742073100Z",
     "start_time": "2023-08-26T00:35:19.691391300Z"
    }
   },
   "id": "d537b73d98901a3"
  },
  {
   "cell_type": "code",
   "execution_count": 50,
   "outputs": [
    {
     "name": "stdout",
     "output_type": "stream",
     "text": [
      "Similarity between \"proyectos\" and \"prestamos\": 0.7840743\n",
      "Similarity between \"proyectos\" and \"asistencias\": 0.118475296\n",
      "Similarity between \"proyectos\" and \"inversion\": 0.81647146\n"
     ]
    }
   ],
   "source": [
    "# Calculate cosine similarity between word vectors\n",
    "sim1 = model.wv.similarity('proyectos', 'prestamos')\n",
    "sim2 = model.wv.similarity('proyectos', 'asistencias')\n",
    "sim3 = model.wv.similarity('proyectos', 'inversion')\n",
    "\n",
    "print('Similarity between \"proyectos\" and \"prestamos\":', sim1)\n",
    "print('Similarity between \"proyectos\" and \"asistencias\":', sim2)\n",
    "print('Similarity between \"proyectos\" and \"inversion\":', sim3)"
   ],
   "metadata": {
    "collapsed": false,
    "ExecuteTime": {
     "end_time": "2023-08-26T00:36:10.518496300Z",
     "start_time": "2023-08-26T00:36:10.475539400Z"
    }
   },
   "id": "be4a5a4ec4414263"
  },
  {
   "cell_type": "code",
   "execution_count": 51,
   "outputs": [
    {
     "name": "stdout",
     "output_type": "stream",
     "text": [
      "Similarity between \"experiencia\" and \"conocimiento\": 0.52314246\n",
      "Similarity between \"experiencia\" and \"habilidades\": 0.7304913\n",
      "Similarity between \"experiencia\" and \"aprendizaje\": 0.78442013\n"
     ]
    }
   ],
   "source": [
    "# Calculate cosine similarity between word vectors\n",
    "sim1 = model.wv.similarity('experiencia', 'conocimiento')\n",
    "sim2 = model.wv.similarity('experiencia', 'habilidades')\n",
    "sim3 = model.wv.similarity('experiencia', 'aprendizaje')\n",
    "\n",
    "print('Similarity between \"experiencia\" and \"conocimiento\":', sim1)\n",
    "print('Similarity between \"experiencia\" and \"habilidades\":', sim2)\n",
    "print('Similarity between \"experiencia\" and \"aprendizaje\":', sim3)"
   ],
   "metadata": {
    "collapsed": false,
    "ExecuteTime": {
     "end_time": "2023-08-26T00:37:05.136357900Z",
     "start_time": "2023-08-26T00:37:05.104605Z"
    }
   },
   "id": "a00f42ac21b1acef"
  },
  {
   "cell_type": "code",
   "execution_count": 53,
   "outputs": [
    {
     "name": "stdout",
     "output_type": "stream",
     "text": [
      "Similarity between \"innovacion\" and \"tecnologia\": 0.9486524\n",
      "Similarity between \"innovacion\" and \"creatividad\": 0.71299016\n",
      "Similarity between \"innovacion\" and \"nuevo\": 0.38986084\n"
     ]
    }
   ],
   "source": [
    "# Calculate cosine similarity between word vectors\n",
    "sim1 = model.wv.similarity('innovacion', 'tecnologia')\n",
    "sim2 = model.wv.similarity('innovacion', 'creatividad')\n",
    "sim3 = model.wv.similarity('innovacion', 'nuevo')\n",
    "\n",
    "print('Similarity between \"innovacion\" and \"tecnologia\":', sim1)\n",
    "print('Similarity between \"innovacion\" and \"creatividad\":', sim2)\n",
    "print('Similarity between \"innovacion\" and \"nuevo\":', sim3)"
   ],
   "metadata": {
    "collapsed": false,
    "ExecuteTime": {
     "end_time": "2023-08-26T00:38:33.003471100Z",
     "start_time": "2023-08-26T00:38:32.974667500Z"
    }
   },
   "id": "ee06300100d11c33"
  },
  {
   "cell_type": "code",
   "execution_count": 54,
   "outputs": [
    {
     "name": "stdout",
     "output_type": "stream",
     "text": [
      "Similarity between \"asaltantes\" and \"delincuentes\": 0.9014293\n",
      "Similarity between \"asaltantes\" and \"crimen\": 0.5640826\n",
      "Similarity between \"asaltantes\" and \"robo\": 0.8762963\n"
     ]
    }
   ],
   "source": [
    "# Calculate cosine similarity between word vectors\n",
    "sim1 = model.wv.similarity('asaltantes', 'delincuentes')\n",
    "sim2 = model.wv.similarity('asaltantes', 'crimen')\n",
    "sim3 = model.wv.similarity('asaltantes', 'robo')\n",
    "\n",
    "print('Similarity between \"asaltantes\" and \"delincuentes\":', sim1)\n",
    "print('Similarity between \"asaltantes\" and \"crimen\":', sim2)\n",
    "print('Similarity between \"asaltantes\" and \"robo\":', sim3)"
   ],
   "metadata": {
    "collapsed": false,
    "ExecuteTime": {
     "end_time": "2023-08-26T00:39:19.211079300Z",
     "start_time": "2023-08-26T00:39:19.172224400Z"
    }
   },
   "id": "1414e435f539e624"
  },
  {
   "cell_type": "code",
   "execution_count": 56,
   "outputs": [
    {
     "name": "stdout",
     "output_type": "stream",
     "text": [
      "Similarity between \"joyeria\" and \"dinero\": 0.42978433\n",
      "Similarity between \"joyeria\" and \"diamantes\": 0.8594645\n",
      "Similarity between \"joyeria\" and \"orfebreria\": 0.57009673\n"
     ]
    }
   ],
   "source": [
    "# Calculate cosine similarity between word vectors\n",
    "sim1 = model.wv.similarity('joyeria', 'dinero')\n",
    "sim2 = model.wv.similarity('joyeria', 'diamantes')\n",
    "sim3 = model.wv.similarity('joyeria', 'orfebreria')\n",
    "\n",
    "print('Similarity between \"joyeria\" and \"dinero\":', sim1)\n",
    "print('Similarity between \"joyeria\" and \"diamantes\":', sim2)\n",
    "print('Similarity between \"joyeria\" and \"orfebreria\":', sim3)"
   ],
   "metadata": {
    "collapsed": false,
    "ExecuteTime": {
     "end_time": "2023-08-26T00:40:18.026837400Z",
     "start_time": "2023-08-26T00:40:17.999365500Z"
    }
   },
   "id": "dbe50e2d173d47be"
  },
  {
   "cell_type": "markdown",
   "source": [
    "## 4. Conclusiones\n",
    "\n",
    "En conclusión, el modelo Word2Vec emerge como una herramienta poderosa en el procesamiento del lenguaje natural al abordar el desafío de representar palabras en un espacio semántico significativo. A través de su capacidad para capturar relaciones contextuales y semánticas entre palabras, el modelo ha revolucionado la manera en que las máquinas interpretan y procesan el lenguaje humano. Al asignar vectores numéricos a palabras, el Word2Vec permite realizar cálculos de similitud y analogía, potenciando aplicaciones que van desde la búsqueda de información hasta la traducción automática. A pesar de sus limitaciones, este enfoque ofrece un avance significativo en la comprensión y el tratamiento del lenguaje, impulsando continuamente la innovación en el campo del procesamiento del lenguaje natural.\n",
    "\n",
    "## 5. Referencias\n",
    "\n",
    "\\[1] SumedhKadam. \"Python | Word Embedding using Word2Vec - GeeksforGeeks\". [GeeksforGeeks.](https://www.geeksforgeeks.org/python-word-embedding-using-word2vec/)\n",
    "\n",
    "## 6. Anexos\n",
    "\n",
    "Puedes acceder al repositorio aqui: [GitHub](https://github.com/vimofama/Word2Vec)"
   ],
   "metadata": {
    "collapsed": false
   },
   "id": "db7bf36f7ebc47f2"
  }
 ],
 "metadata": {
  "kernelspec": {
   "display_name": "Python 3",
   "language": "python",
   "name": "python3"
  },
  "language_info": {
   "codemirror_mode": {
    "name": "ipython",
    "version": 2
   },
   "file_extension": ".py",
   "mimetype": "text/x-python",
   "name": "python",
   "nbconvert_exporter": "python",
   "pygments_lexer": "ipython2",
   "version": "2.7.6"
  }
 },
 "nbformat": 4,
 "nbformat_minor": 5
}
